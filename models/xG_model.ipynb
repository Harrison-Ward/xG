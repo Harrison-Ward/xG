version https://git-lfs.github.com/spec/v1
oid sha256:727969d0d7ee342a88499ceeadc6a61252e2bb4a90922c7714dbd8a6f2525c0b
size 711209
