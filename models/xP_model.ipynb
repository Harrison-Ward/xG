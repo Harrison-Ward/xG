{
 "cells": [
  {
   "cell_type": "code",
   "execution_count": null,
   "metadata": {},
   "outputs": [],
   "source": [
    "import pandas as pd\n",
    "import numpy as np"
   ]
  },
  {
   "cell_type": "code",
   "execution_count": null,
   "metadata": {},
   "outputs": [],
   "source": [
    "# import the shots dataset\n",
    "shots = pd.read_csv(\"../datasets/23_24_shotmaps.csv\", index_col='Unnamed: 0')"
   ]
  },
  {
   "cell_type": "code",
   "execution_count": null,
   "metadata": {},
   "outputs": [],
   "source": [
    "# pull P(Goal) and match info\n",
    "sim_df = shots[['xG_pred', 'team', 'opponent', 'event.id']]"
   ]
  },
  {
   "cell_type": "code",
   "execution_count": null,
   "metadata": {},
   "outputs": [],
   "source": [
    "# find the number of sample, and the associated weights\n",
    "N_samples = 10\n",
    "shot_sim_weights = sim_df[['xG_pred']].values"
   ]
  },
  {
   "cell_type": "code",
   "execution_count": null,
   "metadata": {},
   "outputs": [],
   "source": [
    "# simulate each of the shots\n",
    "shot_sim_matrix = np.random.binomial(1, shot_sim_weights.squeeze(), size=(N_samples, shot_sim_weights.shape[0]))\n",
    "shot_sim_matrix.shape"
   ]
  },
  {
   "cell_type": "code",
   "execution_count": null,
   "metadata": {},
   "outputs": [],
   "source": [
    "# create column names for the simulated \n",
    "simulated_shots_df = pd.DataFrame(shot_sim_matrix.T, columns=[f'Simulation_{i+1}' for i in range(shot_sim_matrix.shape[0])])\n",
    "\n",
    "simulated_shots_df\n",
    "# Concatenate the simulated DataFrame with your existing DataFrame 'df'\n",
    "sim_df = pd.concat([sim_df, simulated_shots_df], axis=1)"
   ]
  }
 ],
 "metadata": {
  "language_info": {
   "name": "python"
  },
  "orig_nbformat": 4
 },
 "nbformat": 4,
 "nbformat_minor": 2
}
